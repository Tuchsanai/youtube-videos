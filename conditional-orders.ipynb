{
 "cells": [
  {
   "cell_type": "code",
   "execution_count": 173,
   "id": "e776ad1a",
   "metadata": {},
   "outputs": [
    {
     "data": {
      "text/plain": [
       "<IB connected to 127.0.0.1:4004 clientId=0>"
      ]
     },
     "execution_count": 173,
     "metadata": {},
     "output_type": "execute_result"
    }
   ],
   "source": [
    "from ib_insync import *\n",
    "ib = IB()\n",
    "util.startLoop()\n",
    "ib.connect(port=4004,clientId=0)"
   ]
  },
  {
   "cell_type": "markdown",
   "id": "559394fc",
   "metadata": {},
   "source": [
    "### Time based condition"
   ]
  },
  {
   "cell_type": "code",
   "execution_count": 174,
   "id": "d70205be",
   "metadata": {},
   "outputs": [
    {
     "data": {
      "text/plain": [
       "OrderStatus(orderId=3867, status='PreSubmitted', filled=0.0, remaining=1.0, avgFillPrice=0.0, permId=566388773, parentId=0, lastFillPrice=0.0, clientId=0, whyHeld='', mktCapPrice=0.0)"
      ]
     },
     "execution_count": 174,
     "metadata": {},
     "output_type": "execute_result"
    }
   ],
   "source": [
    "conditional_order = MarketOrder(action='BUY',totalQuantity=1)\n",
    "timeCondition = TimeCondition()\n",
    "timeCondition.time = \"20240109 13:49:00\"  # Format: YYYYMMDD HH:MM:SS\n",
    "timeCondition.isMore=True\n",
    "conditional_order.conditions.append(timeCondition)\n",
    "contract=Stock(\"TSLA\",exchange='SMART',currency='USD')\n",
    "ib.qualifyContracts(contract)\n",
    "trade=ib.placeOrder(contract,conditional_order)\n",
    "ib.sleep(3)\n",
    "trade.orderStatus"
   ]
  },
  {
   "cell_type": "code",
   "execution_count": 164,
   "id": "97b126d3",
   "metadata": {},
   "outputs": [
    {
     "data": {
      "text/plain": [
       "datetime.datetime(2024, 1, 9, 13, 49, 49, 731501)"
      ]
     },
     "execution_count": 164,
     "metadata": {},
     "output_type": "execute_result"
    }
   ],
   "source": [
    "import datetime\n",
    "datetime.datetime.now()"
   ]
  },
  {
   "cell_type": "code",
   "execution_count": 176,
   "id": "2545103b",
   "metadata": {},
   "outputs": [
    {
     "data": {
      "text/plain": [
       "OrderStatus(orderId=3867, status='PreSubmitted', filled=0.0, remaining=1.0, avgFillPrice=0.0, permId=566388773, parentId=0, lastFillPrice=0.0, clientId=0, whyHeld='', mktCapPrice=0.0)"
      ]
     },
     "execution_count": 176,
     "metadata": {},
     "output_type": "execute_result"
    }
   ],
   "source": [
    "trade.orderStatus"
   ]
  },
  {
   "cell_type": "code",
   "execution_count": 98,
   "id": "627c24e2",
   "metadata": {},
   "outputs": [],
   "source": [
    "nvda = Stock('NVDA', 'SMART', 'USD')\n",
    "ib.qualifyContracts(nvda)\n",
    "\n",
    "priceCondition=PriceCondition(conId=nvda.conId, exch=\"SMART\", isMore=True, price=342)\n",
    "conditional_order.conditions.append(priceCondition)\n"
   ]
  },
  {
   "cell_type": "code",
   "execution_count": 99,
   "id": "94289a7e",
   "metadata": {},
   "outputs": [
    {
     "data": {
      "text/plain": [
       "Stock(conId=4815747, symbol='NVDA', exchange='SMART', primaryExchange='NASDAQ', currency='USD', localSymbol='NVDA', tradingClass='NMS')"
      ]
     },
     "execution_count": 99,
     "metadata": {},
     "output_type": "execute_result"
    }
   ],
   "source": [
    "nvda"
   ]
  },
  {
   "cell_type": "code",
   "execution_count": 142,
   "id": "284a9cdc",
   "metadata": {},
   "outputs": [],
   "source": []
  },
  {
   "cell_type": "code",
   "execution_count": 143,
   "id": "fa6949fa",
   "metadata": {},
   "outputs": [],
   "source": []
  },
  {
   "cell_type": "code",
   "execution_count": 146,
   "id": "5d89e1bb",
   "metadata": {},
   "outputs": [
    {
     "data": {
      "text/plain": [
       "OrderStatus(orderId=372, status='Filled', filled=1.0, remaining=0.0, avgFillPrice=233.74, permId=951219253, parentId=0, lastFillPrice=233.74, clientId=0, whyHeld='', mktCapPrice=0.0)"
      ]
     },
     "execution_count": 146,
     "metadata": {},
     "output_type": "execute_result"
    }
   ],
   "source": [
    "trade.orderStatus"
   ]
  },
  {
   "cell_type": "code",
   "execution_count": 145,
   "id": "bb7d0afc",
   "metadata": {},
   "outputs": [
    {
     "data": {
      "text/plain": [
       "<bound method IB.placeOrder of <IB connected to 127.0.0.1:4003 clientId=0>>"
      ]
     },
     "execution_count": 145,
     "metadata": {},
     "output_type": "execute_result"
    }
   ],
   "source": [
    "ib.placeOrder"
   ]
  },
  {
   "cell_type": "code",
   "execution_count": 24,
   "id": "c0a3d636",
   "metadata": {},
   "outputs": [
    {
     "data": {
      "text/plain": [
       "MarketOrder(orderId=322, permId=951219239, action='BUY', totalQuantity=1.0, lmtPrice=0.0, auxPrice=0.0, conditions=[TimeCondition(condType=3, conjunction='a', isMore=True, time='20240109 13:12:00')])"
      ]
     },
     "execution_count": 24,
     "metadata": {},
     "output_type": "execute_result"
    }
   ],
   "source": [
    "trade.order"
   ]
  },
  {
   "cell_type": "code",
   "execution_count": 166,
   "id": "cc47c152",
   "metadata": {},
   "outputs": [
    {
     "name": "stdout",
     "output_type": "stream",
     "text": [
      "Time zone: Eastern Standard Time\n"
     ]
    },
    {
     "name": "stderr",
     "output_type": "stream",
     "text": [
      "Peer closed connection.\n"
     ]
    }
   ],
   "source": [
    "import datetime\n",
    "\n",
    "# Get the current time and date\n",
    "current_time = datetime.datetime.now()\n",
    "\n",
    "# Get the time zone information\n",
    "time_zone = current_time.astimezone().tzinfo\n",
    "\n",
    "# Print the time zone information\n",
    "print(\"Time zone:\", time_zone)\n"
   ]
  },
  {
   "cell_type": "code",
   "execution_count": 6,
   "id": "b30e69d9",
   "metadata": {},
   "outputs": [],
   "source": [
    "ticker = ib.reqMktData(contract,\"\",False,False)\n"
   ]
  },
  {
   "cell_type": "code",
   "execution_count": 7,
   "id": "0a0879e9",
   "metadata": {},
   "outputs": [],
   "source": [
    "import numpy as np\n",
    "def onTickerUpdate(ticker):\n",
    "    global trade\n",
    "    trade.order.lmtPrice=np.round(ticker.midpoint(),2) \n",
    "    trade=ib.placeOrder(contract,trade.order)"
   ]
  },
  {
   "cell_type": "code",
   "execution_count": 8,
   "id": "4bd8803f",
   "metadata": {},
   "outputs": [],
   "source": [
    "ticker.updateEvent+=onTickerUpdate"
   ]
  },
  {
   "cell_type": "code",
   "execution_count": 18,
   "id": "25a63f46",
   "metadata": {},
   "outputs": [
    {
     "data": {
      "text/plain": [
       "Order(orderId=3855, permId=1899152479, action='BUY', totalQuantity=1.0, orderType='MKT', lmtPrice=234.66, auxPrice=0.0, outsideRth=True, conditions=[TimeCondition(condType=3, conjunction='a', isMore=True, time='20240109 12:59:00')])"
      ]
     },
     "execution_count": 18,
     "metadata": {},
     "output_type": "execute_result"
    }
   ],
   "source": [
    "\n",
    "trade.orer"
   ]
  },
  {
   "cell_type": "code",
   "execution_count": 17,
   "id": "f0365d55",
   "metadata": {},
   "outputs": [
    {
     "data": {
      "text/plain": [
       "'PreSubmitted'"
      ]
     },
     "execution_count": 17,
     "metadata": {},
     "output_type": "execute_result"
    }
   ],
   "source": [
    "trade.orderStatus.status"
   ]
  },
  {
   "cell_type": "code",
   "execution_count": null,
   "id": "d63a9b00",
   "metadata": {},
   "outputs": [],
   "source": []
  },
  {
   "cell_type": "code",
   "execution_count": null,
   "id": "45754393",
   "metadata": {},
   "outputs": [],
   "source": []
  }
 ],
 "metadata": {
  "kernelspec": {
   "display_name": "py310",
   "language": "python",
   "name": "py310"
  },
  "language_info": {
   "codemirror_mode": {
    "name": "ipython",
    "version": 3
   },
   "file_extension": ".py",
   "mimetype": "text/x-python",
   "name": "python",
   "nbconvert_exporter": "python",
   "pygments_lexer": "ipython3",
   "version": "3.10.13"
  }
 },
 "nbformat": 4,
 "nbformat_minor": 5
}
